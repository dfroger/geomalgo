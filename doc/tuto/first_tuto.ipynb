{
 "cells": [
  {
   "cell_type": "raw",
   "metadata": {
    "raw_mimetype": "text/restructuredtext"
   },
   "source": [
    "***********************\n",
    "GeomAlgo first tutorial\n",
    "***********************\n",
    "\n",
    "This first tutorial introduces ``geomalgo`` through simple examples, exploring three differents aspects of its API:\n",
    "\n",
    "- **Python API**: Manipulate Python objects in the Python interactive interpreter.\n",
    "- **Cython API**: Use Cython compiler to add static typing to previous example, and manipulate **C structures**.\n",
    "- **Work on large data sets**: Use `SoA <https://en.wikipedia.org/wiki/AOS_and_SOA>`_ memory layout and compile to **C** code to efficiently work large date sets.\n",
    "\n",
    "These concepts will be demonstrated on a simple example: computing intersection between segments."
   ]
  },
  {
   "cell_type": "raw",
   "metadata": {
    "raw_mimetype": "text/restructuredtext"
   },
   "source": [
    "==========================\n",
    "Using the Python interface\n",
    "==========================\n",
    "\n",
    "This tutorial is written in a Jupyter notebook. ``pylab`` is imported, and ``matplotlib`` figures are inlined in the notebook.\n",
    "\n",
    "``geomalgo`` is imported as ``ga``."
   ]
  },
  {
   "cell_type": "code",
   "execution_count": null,
   "metadata": {
    "collapsed": false
   },
   "outputs": [],
   "source": [
    "%pylab inline\n",
    "\n",
    "import geomalgo as ga"
   ]
  },
  {
   "cell_type": "raw",
   "metadata": {
    "raw_mimetype": "text/restructuredtext"
   },
   "source": [
    "The first ``geomalgo`` `class` (actually, extension type) we manipulate is :py:class:`geomalgo.Point2D`.\n",
    "\n",
    "It takes point coordinates as argument. The Python API also accept an optional name, and provides a `plot` method, usefull to quickly create `matplotlib` figures."
   ]
  },
  {
   "cell_type": "code",
   "execution_count": null,
   "metadata": {
    "collapsed": false
   },
   "outputs": [],
   "source": [
    "A = ga.Point2D(2, 1, name='A')\n",
    "B = ga.Point2D(6, 4, name='B')\n",
    "\n",
    "C = ga.Point2D(5, 2, name='C')\n",
    "D = ga.Point2D(2, 3.5, name='D')\n",
    "\n",
    "for obj in [A, B, C, D]:\n",
    "    obj.plot()"
   ]
  },
  {
   "cell_type": "raw",
   "metadata": {
    "raw_mimetype": "text/restructuredtext"
   },
   "source": [
    "These four points can be used to create two segments, using :py:class:`geomalgo.Segment2D`.\n",
    "\n",
    "Like points, segments have a `plot` method."
   ]
  },
  {
   "cell_type": "code",
   "execution_count": null,
   "metadata": {
    "collapsed": false
   },
   "outputs": [],
   "source": [
    "AB = ga.Segment2D(A, B)\n",
    "CD = ga.Segment2D(C, D)\n",
    "\n",
    "for obj in [A, B, C, D, AB, CD]:\n",
    "    obj.plot()"
   ]
  },
  {
   "cell_type": "raw",
   "metadata": {
    "raw_mimetype": "text/restructuredtext"
   },
   "source": [
    "The next task we want to achieve is computing the intersection between the two segments.\n",
    "\n",
    "There is a :py:meth:`Segment2D.intersect_segment` method to compute intersection with another segment. It returns two objects, which can be:\n",
    "\n",
    "    - both None if segments do not intersect,\n",
    "    - a point and None if there is one intersection point,\n",
    "    - two points when segments are colinear."
   ]
  },
  {
   "cell_type": "code",
   "execution_count": null,
   "metadata": {
    "collapsed": false
   },
   "outputs": [],
   "source": [
    "I0, I1 = AB.intersect_segment(CD)\n",
    "print(I0)\n",
    "print(I1)\n",
    "\n",
    "for obj in [A, B, C, D, AB, CD]:\n",
    "    obj.plot()\n",
    "    \n",
    "I0.plot(name='I', color='red')"
   ]
  },
  {
   "cell_type": "raw",
   "metadata": {
    "raw_mimetype": "text/restructuredtext"
   },
   "source": [
    "Another usefull information is to locate the intersection point not only in cartesian coordiante, but with coordiante relative to each segment. This is achieve with the ``return_coords`` flag.\n",
    "\n",
    "Note that as there is not second intersection point, we can ignore `None` value, assigning them to a `_` variable."
   ]
  },
  {
   "cell_type": "code",
   "execution_count": null,
   "metadata": {
    "collapsed": false
   },
   "outputs": [],
   "source": [
    "I0, _, (AB_coord, CD_coord, _, _)  = AB.intersect_segment(CD, return_coords=True)\n",
    "print(AB_coord, CD_coord)"
   ]
  },
  {
   "cell_type": "raw",
   "metadata": {
    "raw_mimetype": "text/restructuredtext"
   },
   "source": [
    "``AB_coord`` is :math:`\\frac{1}{2}`, meaning the point is in the middle of the segment, while ``CD_coord`` is :math:`\\frac{1}{3}`, meaning the point is at a distance :math:`\\frac{|CD|}{3}` from the point ``C``."
   ]
  },
  {
   "cell_type": "raw",
   "metadata": {
    "raw_mimetype": "text/restructuredtext"
   },
   "source": [
    "To change from cartesian coordinates to segment coordiante, use the :py:meth:`Point2D.at` method:"
   ]
  },
  {
   "cell_type": "code",
   "execution_count": null,
   "metadata": {
    "collapsed": false
   },
   "outputs": [],
   "source": [
    "print(AB.at(AB_coord))\n",
    "print(CD.at(CD_coord))"
   ]
  },
  {
   "cell_type": "raw",
   "metadata": {
    "raw_mimetype": "text/restructuredtext"
   },
   "source": [
    "To change from segment coordinate to cartesian coordiantes, use the :py:meth:`Point2D.where` method:"
   ]
  },
  {
   "cell_type": "code",
   "execution_count": null,
   "metadata": {
    "collapsed": false
   },
   "outputs": [],
   "source": [
    "print(AB.where(I0))\n",
    "print(CD.where(I0))"
   ]
  },
  {
   "cell_type": "raw",
   "metadata": {
    "raw_mimetype": "text/restructuredtext"
   },
   "source": [
    "This concludes the first tutorial part.\n",
    "\n",
    "The Python interpreter has allowed us to interactively construct points, segments, and compute intersection between them.\n",
    "\n",
    "This a very handy way to perform temporary computation, using Python interpreter as an advanced calculator, or test a idea, write a prototype, etc.\n",
    "\n",
    "The code can then be written to a Python script to be reused, and to build a library or an application.\n",
    "\n",
    "All the code will be interpreted and dynamically typed. If performance become an issue, we will want to add static typing.\n",
    "\n",
    "This is what will be covered in next section."
   ]
  },
  {
   "cell_type": "raw",
   "metadata": {
    "raw_mimetype": "text/restructuredtext"
   },
   "source": [
    "==========================\n",
    "Using the Cython interface\n",
    "==========================\n",
    "\n",
    "``geomalgo`` provides a ``cython`` API, making it easy to:\n",
    "\n",
    "    - compile code instead of interpret it,\n",
    "    - add static typing for extension types, ``C`` built in, functions, etc,\n",
    "    - compile to full performance ``C`` code, using ``C structures`` instead of extension types."
   ]
  }
 ],
 "metadata": {
  "celltoolbar": "Raw Cell Format",
  "kernelspec": {
   "display_name": "Python 3",
   "language": "python",
   "name": "python3"
  },
  "language_info": {
   "codemirror_mode": {
    "name": "ipython",
    "version": 3
   },
   "file_extension": ".py",
   "mimetype": "text/x-python",
   "name": "python",
   "nbconvert_exporter": "python",
   "pygments_lexer": "ipython3",
   "version": "3.5.2"
  }
 },
 "nbformat": 4,
 "nbformat_minor": 2
}
